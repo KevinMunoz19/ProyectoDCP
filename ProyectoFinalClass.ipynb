{
 "cells": [
  {
   "cell_type": "code",
   "execution_count": 102,
   "id": "electric-metabolism",
   "metadata": {},
   "outputs": [],
   "source": [
    "import numpy as np\n",
    "import pandas as pd\n",
    "import seaborn as sns\n",
    "import matplotlib.pyplot as plt\n",
    "#from sklearn.linear_model import LinearRegression, datasets\n",
    "from sklearn import datasets"
   ]
  },
  {
   "cell_type": "code",
   "execution_count": 215,
   "id": "accepted-adrian",
   "metadata": {},
   "outputs": [],
   "source": [
    "class linear_regression():\n",
    "    def __init__(self, x, y, b0, b1, test_data, training_data, test_df, training_df,df,col_names):\n",
    "        self.x = x\n",
    "        self.y = y\n",
    "        self.beta0 = b0\n",
    "        self.beta1 = b1\n",
    "        self.trainingdata = training_data\n",
    "        self.testdata = test_data\n",
    "        self.trainingdf = training_df\n",
    "        self.testdf = test_df\n",
    "        self.df = df\n",
    "        self.columnnames = col_names\n",
    "    def describetest(self):\n",
    "        print(self.testdf.describe())\n",
    "    def describetraining(self):\n",
    "        print(self.trainingdf.describe())\n",
    "    def graph_histogram(self,column_name,from_df):\n",
    "        try:\n",
    "            if(from_df == 'Training'):\n",
    "                print(\"Training Data Histogram for\", format(column_name))\n",
    "                sns.displot(self.trainingdf[column_name], kde=True,height=6, aspect=2,)\n",
    "            elif(from_df == 'Test'):\n",
    "                print(\"Test Data Histogram for\", format(column_name))\n",
    "                sns.displot(self.testdf[column_name], kde=True,height=6, aspect=2,)\n",
    "            else:\n",
    "                print(\"Data Histogram for\", format(column_name))\n",
    "                sns.displot(self.df[column_name], kde=True,height=6, aspect=2,)\n",
    "        except:\n",
    "            print('Error en datos de entrada')\n",
    "    def graph_correlation(self):\n",
    "        col_name_list = self.columnnames\n",
    "        var_to_compare = col_name_list.pop(0)\n",
    "        for item in col_name_list:\n",
    "            corr_val = self.df[var_to_compare].corr(self.df[item])\n",
    "            plt.scatter(self.df[item], self.df[var_to_compare], color = 'hotpink')\n",
    "            plt.title(\"Correlacion \" +str(var_to_compare)+ \" - \"+ item + \" \" + str(\"%.2f\" % corr_val))\n",
    "            plt.xlabel(item)\n",
    "            plt.ylabel(var_to_compare)\n",
    "            plt.show()\n",
    "    def tupu(self):\n",
    "        self.x = 1\n",
    "    @classmethod\n",
    "    def from_file(cls, filename, training_percent):\n",
    "        data = np.load(filename)\n",
    "        training_data_percent = training_percent\n",
    "        test_data_percent = 100-training_data_percent\n",
    "        training_data_samples = int(data.shape[0] * (training_data_percent*0.01))\n",
    "        random_indexes = np.random.choice(data.shape[0], size=training_data_samples, replace=False)\n",
    "        training_data = data[random_indexes,:]\n",
    "        test_data = np.delete(data,random_indexes,axis=0)\n",
    "        columns_names = ['SalePrice','OverallQuality','1stFlrSF','TotRmsAbvGrd','YearBuilt','LotFrontage']\n",
    "        dftraining = pd.DataFrame(training_data, columns = columns_names)\n",
    "        dftest = pd.DataFrame(test_data, columns = columns_names)\n",
    "        df = pd.DataFrame(data, columns = columns_names)\n",
    "        x=0\n",
    "        y=0\n",
    "        beta_0=0\n",
    "        beta_1=0\n",
    "        return cls(x,y,beta_0,beta_1,test_data, training_data,dftest,dftraining,df,columns_names)\n",
    "    "
   ]
  },
  {
   "cell_type": "code",
   "execution_count": 216,
   "id": "caroline-completion",
   "metadata": {},
   "outputs": [],
   "source": [
    "kev = linear_regression.from_file('proyecto_training_data.npy',80)"
   ]
  },
  {
   "cell_type": "code",
   "execution_count": 217,
   "id": "ambient-theory",
   "metadata": {},
   "outputs": [],
   "source": [
    "#kev.graph_histogram('OverallQuality','Training')"
   ]
  },
  {
   "cell_type": "code",
   "execution_count": 218,
   "id": "wired-elements",
   "metadata": {},
   "outputs": [],
   "source": [
    "#kev.graph_correlation()"
   ]
  },
  {
   "cell_type": "code",
   "execution_count": null,
   "id": "lightweight-storage",
   "metadata": {},
   "outputs": [],
   "source": []
  }
 ],
 "metadata": {
  "kernelspec": {
   "display_name": "Python 3",
   "language": "python",
   "name": "python3"
  },
  "language_info": {
   "codemirror_mode": {
    "name": "ipython",
    "version": 3
   },
   "file_extension": ".py",
   "mimetype": "text/x-python",
   "name": "python",
   "nbconvert_exporter": "python",
   "pygments_lexer": "ipython3",
   "version": "3.9.1"
  }
 },
 "nbformat": 4,
 "nbformat_minor": 5
}
