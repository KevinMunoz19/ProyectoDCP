{
 "cells": [
  {
   "cell_type": "markdown",
   "id": "cubic-accident",
   "metadata": {},
   "source": [
    "# Proyecto"
   ]
  },
  {
   "cell_type": "code",
   "execution_count": 79,
   "id": "decreased-emphasis",
   "metadata": {},
   "outputs": [],
   "source": [
    "import numpy as np"
   ]
  },
  {
   "cell_type": "code",
   "execution_count": 103,
   "id": "thirty-territory",
   "metadata": {},
   "outputs": [],
   "source": [
    "data = np.load('proyecto_training_data.npy')\n",
    "training_data_percent = 20\n",
    "test_data_percent = 100-training_data_percent\n",
    "training_data_samples = int(data.shape[0] * (training_data_percent*0.01))\n",
    "random_indexes = np.random.choice(data.shape[0], size=training_data_samples, replace=False)\n",
    "training_data = data[random_indexes,:]\n",
    "test_data = np.delete(data,random_indexes,axis=0)"
   ]
  },
  {
   "cell_type": "code",
   "execution_count": 81,
   "id": "empty-twelve",
   "metadata": {},
   "outputs": [
    {
     "data": {
      "text/plain": [
       "array([[2.08500e+05, 7.00000e+00, 8.56000e+02, 8.00000e+00, 2.00300e+03,\n",
       "        6.50000e+01],\n",
       "       [1.81500e+05, 6.00000e+00, 1.26200e+03, 6.00000e+00, 1.97600e+03,\n",
       "        8.00000e+01],\n",
       "       [2.23500e+05, 7.00000e+00, 9.20000e+02, 6.00000e+00, 2.00100e+03,\n",
       "        6.80000e+01],\n",
       "       ...,\n",
       "       [2.66500e+05, 7.00000e+00, 1.18800e+03, 9.00000e+00, 1.94100e+03,\n",
       "        6.60000e+01],\n",
       "       [1.42125e+05, 5.00000e+00, 1.07800e+03, 5.00000e+00, 1.95000e+03,\n",
       "        6.80000e+01],\n",
       "       [1.47500e+05, 5.00000e+00, 1.25600e+03, 6.00000e+00, 1.96500e+03,\n",
       "        7.50000e+01]])"
      ]
     },
     "execution_count": 81,
     "metadata": {},
     "output_type": "execute_result"
    }
   ],
   "source": []
  },
  {
   "cell_type": "code",
   "execution_count": 82,
   "id": "educated-azerbaijan",
   "metadata": {},
   "outputs": [
    {
     "data": {
      "text/plain": [
       "1460"
      ]
     },
     "execution_count": 82,
     "metadata": {},
     "output_type": "execute_result"
    }
   ],
   "source": []
  },
  {
   "cell_type": "code",
   "execution_count": 83,
   "id": "charming-twins",
   "metadata": {},
   "outputs": [
    {
     "data": {
      "text/plain": [
       "292"
      ]
     },
     "execution_count": 83,
     "metadata": {},
     "output_type": "execute_result"
    }
   ],
   "source": []
  },
  {
   "cell_type": "code",
   "execution_count": 84,
   "id": "brazilian-filing",
   "metadata": {},
   "outputs": [
    {
     "data": {
      "text/plain": [
       "array([ 959,   78,  596,  913,   48,  849,  115,  765,  735,  256,  386,\n",
       "       1431,  830,  921,  718, 1063,  804,  783,  519,  133,  122,  848,\n",
       "        145,  608, 1144, 1377,  745, 1419, 1007,  576,   42,  408, 1458,\n",
       "        252, 1066,  342, 1037, 1283, 1129,  472,  533, 1370, 1454,  170,\n",
       "       1408, 1149,  970,  941,  541,  467, 1168, 1452, 1287, 1299,  522,\n",
       "        916, 1029,  321, 1198,  655,  597,  511, 1214,  450,   87, 1238,\n",
       "       1215, 1444, 1446, 1274,  189,  374,  220,  670,  409,  999,  243,\n",
       "        488,  716,  344,  405,  638, 1189,  124,  305,  746,  390,  564,\n",
       "        637,  701,  382,   84, 1277,  537, 1412,  219,   17,  985,  922,\n",
       "        328, 1126,  425, 1382, 1088, 1022, 1073,  147,  335,  460,  946,\n",
       "       1051,  247, 1072,  434,  980,  127, 1398,  286, 1209,  294,  110,\n",
       "        698,  323,  767, 1136,  186,  744,   29,  704, 1140,  650, 1243,\n",
       "       1397,  710,  805,  914,  312, 1303,   98, 1195,  184,  696,  297,\n",
       "         57, 1218,  430,  154,  934, 1150, 1421,  762, 1171,  143, 1388,\n",
       "       1433,  517,  353,  414,  227,  662, 1097,  880,  216, 1273,  788,\n",
       "       1035,  175,  902,  474,  631, 1324,  695, 1298, 1372,  782, 1253,\n",
       "        871,  371,  724, 1442,  436,  496,  360,   12,  884,  910,  561,\n",
       "       1330,  350,  322, 1428,  693, 1087,  599,  905,  942,  296, 1288,\n",
       "        212, 1393, 1373,  190, 1010,  645,  289,  207, 1164,  215, 1327,\n",
       "        336,  299, 1120,  614,  956,  520,  253,  112, 1125,  828,  363,\n",
       "        567, 1269, 1122,  569, 1118,  338,  581, 1202, 1429,   36, 1276,\n",
       "       1054,  160, 1334,  535,  441, 1424,   52,  799, 1217,  756,    0,\n",
       "        644, 1344,  876,  857, 1065, 1235,  864, 1082,  813,  943,  729,\n",
       "         67,  478,  341,  319, 1352, 1445, 1333,  222,  468,  267,  895,\n",
       "        459,  734, 1056, 1141,  549, 1331, 1026,  808,  833,  214,  422,\n",
       "        406,   81,  264,  867,  492,  998,  165, 1031,  580,  887, 1068,\n",
       "        432,  972,  532, 1290, 1228,  403])"
      ]
     },
     "execution_count": 84,
     "metadata": {},
     "output_type": "execute_result"
    }
   ],
   "source": []
  },
  {
   "cell_type": "code",
   "execution_count": 85,
   "id": "appropriate-discharge",
   "metadata": {},
   "outputs": [
    {
     "data": {
      "text/plain": [
       "array([[1.55000e+05, 7.00000e+00, 6.96000e+02, 6.00000e+00, 1.99900e+03,\n",
       "        2.40000e+01],\n",
       "       [1.36500e+05, 4.00000e+00, 1.76800e+03, 8.00000e+00, 1.96800e+03,\n",
       "        7.20000e+01],\n",
       "       [1.14504e+05, 6.00000e+00, 6.84000e+02, 7.00000e+00, 1.91000e+03,\n",
       "        6.00000e+01],\n",
       "       ...,\n",
       "       [1.80500e+05, 5.00000e+00, 1.15200e+03, 6.00000e+00, 1.96400e+03,\n",
       "                nan],\n",
       "       [3.67294e+05, 9.00000e+00, 1.70200e+03, 7.00000e+00, 2.00800e+03,\n",
       "        6.50000e+01],\n",
       "       [2.58000e+05, 8.00000e+00, 1.16500e+03, 1.00000e+01, 1.99800e+03,\n",
       "        9.30000e+01]])"
      ]
     },
     "execution_count": 85,
     "metadata": {},
     "output_type": "execute_result"
    }
   ],
   "source": [
    "training_data = data[random_indexes,:]\n",
    "training_data"
   ]
  },
  {
   "cell_type": "code",
   "execution_count": 86,
   "id": "engaging-invasion",
   "metadata": {},
   "outputs": [
    {
     "data": {
      "text/plain": [
       "[]"
      ]
     },
     "execution_count": 86,
     "metadata": {},
     "output_type": "execute_result"
    }
   ],
   "source": [
    "from collections import Counter\n",
    "[item for item, count in Counter(random_indexes).items() if count > 1]"
   ]
  },
  {
   "cell_type": "code",
   "execution_count": 88,
   "id": "alpha-exemption",
   "metadata": {},
   "outputs": [
    {
     "data": {
      "text/plain": [
       "(292, 6)"
      ]
     },
     "execution_count": 88,
     "metadata": {},
     "output_type": "execute_result"
    }
   ],
   "source": [
    "data.shape\n",
    "training_data.shape"
   ]
  },
  {
   "cell_type": "code",
   "execution_count": 76,
   "id": "beneficial-dollar",
   "metadata": {},
   "outputs": [
    {
     "data": {
      "text/plain": [
       "array([1, 3, 5], dtype=int64)"
      ]
     },
     "execution_count": 76,
     "metadata": {},
     "output_type": "execute_result"
    }
   ],
   "source": [
    "\n",
    "A = np.array([1,2,3,4,5,6,7])\n",
    "B = np.array([2,4,6])\n",
    "C = np.searchsorted(A, B)\n",
    "C"
   ]
  },
  {
   "cell_type": "code",
   "execution_count": 77,
   "id": "minimal-small",
   "metadata": {},
   "outputs": [
    {
     "data": {
      "text/plain": [
       "array([0, 2, 4, 6])"
      ]
     },
     "execution_count": 77,
     "metadata": {},
     "output_type": "execute_result"
    }
   ],
   "source": [
    "D = np.delete(np.arange(np.alen(A)), C)\n",
    "\n",
    "D"
   ]
  },
  {
   "cell_type": "code",
   "execution_count": 101,
   "id": "worthy-pricing",
   "metadata": {},
   "outputs": [
    {
     "data": {
      "text/plain": [
       "array([[1.815e+05, 6.000e+00, 1.262e+03, 6.000e+00, 1.976e+03, 8.000e+01],\n",
       "       [2.235e+05, 7.000e+00, 9.200e+02, 6.000e+00, 2.001e+03, 6.800e+01],\n",
       "       [1.400e+05, 7.000e+00, 9.610e+02, 7.000e+00, 1.915e+03, 6.000e+01],\n",
       "       ...,\n",
       "       [2.100e+05, 6.000e+00, 2.073e+03, 7.000e+00, 1.978e+03, 8.500e+01],\n",
       "       [2.665e+05, 7.000e+00, 1.188e+03, 9.000e+00, 1.941e+03, 6.600e+01],\n",
       "       [1.475e+05, 5.000e+00, 1.256e+03, 6.000e+00, 1.965e+03, 7.500e+01]])"
      ]
     },
     "execution_count": 101,
     "metadata": {},
     "output_type": "execute_result"
    }
   ],
   "source": [
    "arr = np.delete(data,random_indexes,axis=0)\n",
    "arr"
   ]
  },
  {
   "cell_type": "code",
   "execution_count": 102,
   "id": "found-journalism",
   "metadata": {},
   "outputs": [
    {
     "data": {
      "text/plain": [
       "(1168, 6)"
      ]
     },
     "execution_count": 102,
     "metadata": {},
     "output_type": "execute_result"
    }
   ],
   "source": [
    "arr.shape"
   ]
  }
 ],
 "metadata": {
  "kernelspec": {
   "display_name": "Python 3",
   "language": "python",
   "name": "python3"
  },
  "language_info": {
   "codemirror_mode": {
    "name": "ipython",
    "version": 3
   },
   "file_extension": ".py",
   "mimetype": "text/x-python",
   "name": "python",
   "nbconvert_exporter": "python",
   "pygments_lexer": "ipython3",
   "version": "3.9.1"
  }
 },
 "nbformat": 4,
 "nbformat_minor": 5
}
